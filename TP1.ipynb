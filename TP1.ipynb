{
 "cells": [
  {
   "cell_type": "markdown",
   "metadata": {},
   "source": [
    "# Trabajo práctico 1 - Simulación"
   ]
  },
  {
   "cell_type": "code",
   "execution_count": 64,
   "metadata": {},
   "outputs": [
    {
     "name": "stdout",
     "output_type": "stream",
     "text": [
      "Requirement already satisfied: scipy in /usr/local/lib/python3.7/site-packages (1.2.1)\r\n",
      "Requirement already satisfied: numpy>=1.8.2 in /usr/local/lib/python3.7/site-packages (from scipy) (1.15.4)\r\n"
     ]
    }
   ],
   "source": [
    "import sys\n",
    "!{sys.executable} -m pip install scipy\n",
    "\n",
    "import matplotlib.pyplot as plt\n",
    "from collections import Counter\n",
    "from random import random\n",
    "import math\n",
    "import scipy.stats as st\n",
    "import numpy as np"
   ]
  },
  {
   "cell_type": "markdown",
   "metadata": {},
   "source": [
    "## Ejercicio 1\n",
    "\n",
    "**1- Utilizando Matlab, Octave o Python implementar un Generador Congruencial Lineal (GCL) de módulo 232, multiplicador 1013904223, incremento de 1664525 y semilla igual a la parte entera de la suma ponderada (0,15-0,25-0,6) de los números de padrón de los integrantes del grupo, ordenados ascendentemente.**\n",
    "* **Informar los primeros 5 números de la secuencia.**\n",
    "* **Modificar el GCL para que devuelva números al azar entre 0 y 1, y realizar un histograma sobre 100.000 valores generados.**"
   ]
  },
  {
   "cell_type": "code",
   "execution_count": 65,
   "metadata": {},
   "outputs": [],
   "source": [
    "def GCL(multiplier, seed, increment, module, generated_length):\n",
    "    l = [(multiplier * seed + increment) % module]\n",
    "    for i in range(1, generated_length):\n",
    "        l.append( (multiplier * l[i-1] + increment) % module)\n",
    "    return l\n",
    "\n",
    "def plot_values(histogram_values, title, x_label, y_label, bins = 100):\n",
    "    fig, ax = plt.subplots()\n",
    "\n",
    "    n, bins, patches = ax.hist(histogram_values, num_bins, density=1)\n",
    "    gcl_histogram = plt.hist(histogram_values, bins = num_bins)\n",
    "\n",
    "    ax.set_title(title)\n",
    "    ax.set_xlabel(x_label)\n",
    "    ax.set_ylabel(y_label)\n",
    "    \n",
    "    plt.show()"
   ]
  },
  {
   "cell_type": "code",
   "execution_count": 66,
   "metadata": {},
   "outputs": [
    {
     "data": {
      "text/plain": [
       "[107, 178, 51, 154, 107]"
      ]
     },
     "execution_count": 66,
     "metadata": {},
     "output_type": "execute_result"
    }
   ],
   "source": [
    "seed = int(99136 * 0.15 + 92308 * 0.25 + 97092 * 0.6)\n",
    "five_numbers = GCL(1013904223, seed, 1664525, 232, 5)\n",
    "five_numbers"
   ]
  },
  {
   "cell_type": "code",
   "execution_count": 67,
   "metadata": {},
   "outputs": [],
   "source": [
    "histogram_values = list(map(lambda x: x/232, GCL(1013904223, seed, 1664525, 232, 100000)))"
   ]
  },
  {
   "cell_type": "code",
   "execution_count": 68,
   "metadata": {},
   "outputs": [
    {
     "ename": "NameError",
     "evalue": "name 'num_bins' is not defined",
     "output_type": "error",
     "traceback": [
      "\u001b[0;31m---------------------------------------------------------------------------\u001b[0m",
      "\u001b[0;31mNameError\u001b[0m                                 Traceback (most recent call last)",
      "\u001b[0;32m<ipython-input-68-ff339f0d89f1>\u001b[0m in \u001b[0;36m<module>\u001b[0;34m\u001b[0m\n\u001b[0;32m----> 1\u001b[0;31m \u001b[0mplot_values\u001b[0m\u001b[0;34m(\u001b[0m\u001b[0mhistogram_values\u001b[0m\u001b[0;34m,\u001b[0m \u001b[0;34m'GCL histogram plot'\u001b[0m\u001b[0;34m,\u001b[0m \u001b[0;34m'Values'\u001b[0m\u001b[0;34m,\u001b[0m \u001b[0;34m'Number of occurrences'\u001b[0m\u001b[0;34m)\u001b[0m\u001b[0;34m\u001b[0m\u001b[0;34m\u001b[0m\u001b[0m\n\u001b[0m",
      "\u001b[0;32m<ipython-input-65-c019f12eded9>\u001b[0m in \u001b[0;36mplot_values\u001b[0;34m(histogram_values, title, x_label, y_label, bins)\u001b[0m\n\u001b[1;32m      8\u001b[0m     \u001b[0mfig\u001b[0m\u001b[0;34m,\u001b[0m \u001b[0max\u001b[0m \u001b[0;34m=\u001b[0m \u001b[0mplt\u001b[0m\u001b[0;34m.\u001b[0m\u001b[0msubplots\u001b[0m\u001b[0;34m(\u001b[0m\u001b[0;34m)\u001b[0m\u001b[0;34m\u001b[0m\u001b[0;34m\u001b[0m\u001b[0m\n\u001b[1;32m      9\u001b[0m \u001b[0;34m\u001b[0m\u001b[0m\n\u001b[0;32m---> 10\u001b[0;31m     \u001b[0mn\u001b[0m\u001b[0;34m,\u001b[0m \u001b[0mbins\u001b[0m\u001b[0;34m,\u001b[0m \u001b[0mpatches\u001b[0m \u001b[0;34m=\u001b[0m \u001b[0max\u001b[0m\u001b[0;34m.\u001b[0m\u001b[0mhist\u001b[0m\u001b[0;34m(\u001b[0m\u001b[0mhistogram_values\u001b[0m\u001b[0;34m,\u001b[0m \u001b[0mnum_bins\u001b[0m\u001b[0;34m,\u001b[0m \u001b[0mdensity\u001b[0m\u001b[0;34m=\u001b[0m\u001b[0;36m1\u001b[0m\u001b[0;34m)\u001b[0m\u001b[0;34m\u001b[0m\u001b[0;34m\u001b[0m\u001b[0m\n\u001b[0m\u001b[1;32m     11\u001b[0m     \u001b[0mgcl_histogram\u001b[0m \u001b[0;34m=\u001b[0m \u001b[0mplt\u001b[0m\u001b[0;34m.\u001b[0m\u001b[0mhist\u001b[0m\u001b[0;34m(\u001b[0m\u001b[0mhistogram_values\u001b[0m\u001b[0;34m,\u001b[0m \u001b[0mbins\u001b[0m \u001b[0;34m=\u001b[0m \u001b[0mnum_bins\u001b[0m\u001b[0;34m)\u001b[0m\u001b[0;34m\u001b[0m\u001b[0;34m\u001b[0m\u001b[0m\n\u001b[1;32m     12\u001b[0m \u001b[0;34m\u001b[0m\u001b[0m\n",
      "\u001b[0;31mNameError\u001b[0m: name 'num_bins' is not defined"
     ]
    },
    {
     "data": {
      "image/png": "[encoded data removed]",
      "text/plain": [
       "<Figure size 432x288 with 1 Axes>"
      ]
     },
     "metadata": {
      "needs_background": "light"
     },
     "output_type": "display_data"
    }
   ],
   "source": [
    "plot_values(histogram_values, 'GCL histogram plot', 'Values', 'Number of occurrences')"
   ]
  },
  {
   "cell_type": "code",
   "execution_count": null,
   "metadata": {},
   "outputs": [],
   "source": [
    "counting_elements = Counter(histogram_values)\n",
    "counting_elements"
   ]
  },
  {
   "cell_type": "markdown",
   "metadata": {},
   "source": [
    "Como se puede observar, hay únicamente 4 valores diferentes que se repiten 25000 veces cada uno. El rango del GCL con esos valores es 4, mucho menor al módulo provisto."
   ]
  },
  {
   "cell_type": "markdown",
   "metadata": {},
   "source": [
    "## Ejercicio 2\n",
    "\n",
    "**Utilizando el generador de números aleatorios con distribución uniforme [0,1] implementado en el ejercicio 1 y utilizando el método de la transformada inversa genere números pseudoaleatorios con distribución exponencial negativa de media 20.**\n",
    "* **Realizar un histograma de 100.000 valores obtenidos.**\n",
    "* **Calcular la media y varianza de la distribución obtenida y compararlos con los valores teóricos.**"
   ]
  },
  {
   "cell_type": "code",
   "execution_count": null,
   "metadata": {},
   "outputs": [],
   "source": [
    "def inversa_exponencial(random_value, lambda_value = 1):\n",
    "    return (-1/lambda_value) * math.log(1 - random_value)\n",
    "\n",
    "lambda_value = 1/20\n",
    "\n",
    "# This are the values generated with random input\n",
    "#exponencial_values = [inversa_exponencial(random(), lambda_value) for _ in range(100000)]\n",
    "histogram_values = list(map(lambda x: x/232, GCL(1013904223, seed, 1664525, 232, 100000)))\n",
    "exponencial_values = list(map(lambda x: inversa_exponencial(x, lambda_value), histogram_values))\n",
    "\n",
    "plot_values(exponencial_values, 'exponential histogram plot', 'Values', 'Number of occurrences')"
   ]
  },
  {
   "cell_type": "code",
   "execution_count": null,
   "metadata": {},
   "outputs": [],
   "source": [
    "exponential_mean = np.mean(exponencial_values)\n",
    "exponential_standard_deviation = np.std(exponencial_values)"
   ]
  },
  {
   "cell_type": "code",
   "execution_count": null,
   "metadata": {},
   "outputs": [],
   "source": [
    "print(\"Esperanza: \", exponential_mean)\n",
    "print(\"Varianza: \", exponential_standard_deviation ** 2)"
   ]
  },
  {
   "cell_type": "markdown",
   "metadata": {},
   "source": [
    "Tal como era de esperar, los cuatro valores generados por la función de GCL se transforman en otros nuevos 4 valores. Tanto la forma del gráfico como los valores de la esperanza y la varianza (deberían ser 20 y 400 respectivamente) distan de lo esperado."
   ]
  },
  {
   "cell_type": "markdown",
   "metadata": {},
   "source": [
    "## Ejercicio 3\n",
    "\n",
    "**Utilizando el método de Box-Muller genere de números aleatorios con distribución normal standard.**\n",
    "* **Realizar un histograma de 100.000 valores obtenidos.**\n",
    "* **Calcular la media y varianza de la distribución obtenida y compararlos con los valores teóricos.**"
   ]
  },
  {
   "cell_type": "code",
   "execution_count": null,
   "metadata": {},
   "outputs": [],
   "source": [
    "def box_muller(u1, u2):\n",
    "    z1 = math.sqrt(-2 * math.log(u1)) * math.cos(2 * math.pi * u2)\n",
    "    z2 = math.sqrt(-2 * math.log(u1)) * math.sin(2 * math.pi * u2)\n",
    "    return z1,z2\n",
    "\n",
    "\n",
    "normal_values = []\n",
    "for _ in range(50000):\n",
    "    normal_values_tuple = box_muller(random(), random())\n",
    "    normal_values.append(normal_values_tuple[0])\n",
    "    normal_values.append(normal_values_tuple[1])\n",
    "    \n",
    "\n",
    "plot_values(normal_values, 'Normal (Box-Muller) histogram plot', 'Values', 'Number of occurrences')"
   ]
  },
  {
   "cell_type": "code",
   "execution_count": null,
   "metadata": {},
   "outputs": [],
   "source": [
    "normal_mean = np.mean(normal_values)\n",
    "normal_standard_deviation = np.std(normal_values)\n",
    "print(\"Esperanza: \", normal_mean)\n",
    "print(\"Varianza: \", normal_standard_deviation ** 2)"
   ]
  },
  {
   "cell_type": "markdown",
   "metadata": {},
   "source": [
    "Los valores obtenidos son muy similares a los esperados"
   ]
  },
  {
   "cell_type": "markdown",
   "metadata": {},
   "source": [
    "## Ejercicio 4\n",
    "\n",
    "**Genere 100.000 número aleatorios condistribución Normal de media 40 y desvío estándar 6 utilizando el algoritmo de Aceptación y Rechazo.**\n",
    "* Realizar un histograma de frecuencias relativas con todos los valores obtenidos.\n",
    "* Comparar, en el mismo gráfico, el histograma realizado en el punto anterior con la distribución normal brindada por Matlab, Octave o Python.\n",
    "* Calcular la media y la varianza de la distribución obtenida y compararlos con los valores teóricos."
   ]
  },
  {
   "cell_type": "markdown",
   "metadata": {},
   "source": [
    "## Ejercicio 5\n",
    "Utilizando el método de la transformada inversa y utilizando el generador de números aleatorios implementado en el ejercicio 1 genere números aleatorios siguiendo la siguiente función de distribución de probabilidad empírica.\n",
    "Probabilidad      Valor generado\n",
    "     .4                 1\n",
    "     .3                 2\n",
    "     .12                3\n",
    "     .1                 4\n",
    "     .08                5\n",
    "     \n",
    "Muestre los resultados obtenidos en un histograma."
   ]
  },
  {
   "cell_type": "code",
   "execution_count": null,
   "metadata": {},
   "outputs": [],
   "source": [
    "def transform_values_to_discrete_distribution(u):\n",
    "    if (u <= 0.4):\n",
    "        return 1\n",
    "    elif (u <= 0.7):\n",
    "        return 2\n",
    "    elif (u <= 0.82):\n",
    "        return 3\n",
    "    elif (u <= 0.92):\n",
    "        return 4\n",
    "    else:\n",
    "        return 5\n",
    "\n",
    "# This are the values generated with random input\n",
    "discrete_values = [transform_values_to_discrete_distribution(random()) for _ in range(100000)]\n",
    "\n",
    "#histogram_values = list(map(lambda x: x/232, GCL(1013904223, seed, 1664525, 232, 100000)))\n",
    "\n",
    "#discrete_values = list(map(lambda x: inversa_exponencial(x, lambda_value), histogram_values))\n",
    "\n",
    "plot_values(discrete_values, 'Discrete histogram plot', 'Values', 'Number of occurrences', bins = 5)"
   ]
  },
  {
   "cell_type": "code",
   "execution_count": null,
   "metadata": {},
   "outputs": [],
   "source": []
  }
 ],
 "metadata": {
  "kernelspec": {
   "display_name": "Python 3",
   "language": "python",
   "name": "python3"
  },
  "language_info": {
   "codemirror_mode": {
    "name": "ipython",
    "version": 3
   },
   "file_extension": ".py",
   "mimetype": "text/x-python",
   "name": "python",
   "nbconvert_exporter": "python",
   "pygments_lexer": "ipython3",
   "version": "3.7.2"
  }
 },
 "nbformat": 4,
 "nbformat_minor": 2
}
