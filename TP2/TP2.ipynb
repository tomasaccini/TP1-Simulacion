{
 "cells": [
  {
   "cell_type": "markdown",
   "metadata": {},
   "source": [
    "# Trabajo práctico 2 - Simulación"
   ]
  },
  {
   "cell_type": "code",
   "execution_count": 2,
   "metadata": {},
   "outputs": [
    {
     "name": "stdout",
     "output_type": "stream",
     "text": [
      "Requirement already satisfied: scipy in /usr/local/lib/python3.7/site-packages (1.2.1)\r\n",
      "Requirement already satisfied: numpy>=1.8.2 in /usr/local/lib/python3.7/site-packages (from scipy) (1.15.4)\r\n"
     ]
    }
   ],
   "source": [
    "import sys\n",
    "!{sys.executable} -m pip install scipy\n",
    "\n",
    "import matplotlib.pyplot as plt\n",
    "from collections import Counter\n",
    "from random import random\n",
    "import math\n",
    "import scipy.stats as st\n",
    "import numpy as np"
   ]
  },
  {
   "cell_type": "markdown",
   "metadata": {},
   "source": [
    "# Procesos de Poission\n",
    "\n",
    "## Ejercicio 1\n",
    "\n",
    "Utilizando Matlab, Octave o Python (sin utilizar Simpy) se debe determinar con cuál de las siguientes 2 arquitecturas nos permite tener un menor tiempo de procesamiento.\n",
    "A un procesador arriban instrucciones siguiendo una distribución exponencial con una tasa de 250 instrucciones por\n",
    "microsegundo.\n",
    "Las instrucciones se pueden agrupar en las siguientes categorías, y en función de ella es el tiempo que demoran en ser ejecutadas el cual sigue una distribución exponencial con parámetro lambda especificado a continuación.\n",
    "\n",
    "| Tipo de instrucción | Probabilidad | Tasa del tiempo de ejecución (instrucciones por µseg) |\n",
    "|:-------------------:|:------------:|:-----------------------------------------------------:|\n",
    "|        Simple       |      0,6     |                           60                          |\n",
    "|       Compleja      |      0,4     |                           10                          |\n",
    "\n",
    "Se sabe que el 65% de las instrucciones requieren buscar datos en memoria para antes de ser ejecutadas.\n",
    "En este punto se plantean dos alternativas: \n",
    "\n",
    "\n",
    "<table>\n",
    " <tr>\n",
    "    <td style=\"text-align: left; width: 100px;\"><b>Alternativa 1:</b></td>\n",
    "    <td style=\"text-align: left;\">Cada vez que se requiera un dato de memoria se lo busca en memoria principal. Tarea cuyo tiempo corresponde a una distribución exponencial con una tasa de 2000 instrucciones por microsegundo. </td>\n",
    " </tr>\n",
    " <tr>\n",
    "    <td style=\"text-align: left; width: 100px;\"><b>Alternativa 2:</b></td>\n",
    "    <td style=\"text-align: left;\">Implementar un Caché, con el cual existiría una probabilidad de .6 de encontrar el dato requerido y no tener la necesidad de buscarlo en memoria principal.\n",
    " El tiempo de acceso a este caché se puede modelar siguiendo una distribución exponencial con una\n",
    "tasa de 500 instrucciones por microsegundo.\n",
    " Cuando el dato no es encontrado en el caché y debe buscarse en memoria principal donde su demora\n",
    "también sigue una distribución exponencial con una tasa de 1500 instrucciones por microsegundo. </td>\n",
    " </tr>\n",
    "</table>"
   ]
  },
  {
   "cell_type": "markdown",
   "metadata": {},
   "source": [
    "El arribo de instrucciones a un procesador se pueden modelar como un proceso de Poisson debido a que los arribos siguen una distribución exponencial de 250 instrucciones/us.\n",
    "\n",
    "Sean:\n",
    "\n",
    "$\\Pi$ = \"Arribo de instrucciones a un procesador\" ~ Poi($\\lambda$ = 250 ins/$\\mu$s)\n",
    "\n",
    "$\\Pi_{1}$ = \"Arribo de una instrucción simples a un procesador\" ~ Poi($\\lambda_{1}$ = 0,6 * 250 ins/$\\mu$s)\n",
    "\n",
    "$\\Pi_{2}$ = \"Arribo de una instruccións complejas a un procesador\" ~ Poi($\\lambda_{2}$ = 0,4 * 250 ins/$\\mu$s)\n",
    "\n",
    "$T_{P1}$ = \"Tiempo que demora una instrucción simple en ser ejecutada\" ~ exp($\\lambda_{P1}$ = 60 ins/$\\mu$s)\n",
    "\n",
    "$T_{P2}$ = \"Tiempo que demora una instrucción compleja en ser ejecutada\" ~ exp($\\lambda_{P2}$ = 10 ins/$\\mu$s)\n",
    "\n",
    "$P_{M}$ = \"Probabilidad de tener que buscar el dato en memoria\" = 0.65\n",
    "\n",
    "<b>Para alternativa 1</b>\n",
    "\n",
    "$T_{1}$ = \"Tiempo que demora el procesador en buscar un dato en memoria\" ~ exp($\\lambda_{T1}$ = 2000 ins/$\\mu$s)\n",
    "\n",
    "<b>Para alternativa 2</b>\n",
    "\n",
    "$P_{C}$ = \"Probabilidad de que el dato se encuentre en caché\" = 0.6\n",
    "\n",
    "$T_{C}$ = \"Tiempo que demora el procesador en buscar el dato en caché\" ~ exp($\\lambda_{C}$ = 500 ins/$\\mu$s)\n",
    "\n",
    "$T_{NC}$ = \"Tiempo que demora el procesador en buscar el dato en memoria y volcarlo en caché\" ~ exp($\\lambda_{NC}$ = 1500 ins/$\\mu$s)"
   ]
  },
  {
   "cell_type": "markdown",
   "metadata": {},
   "source": [
    "Para resolver el problema, se simulará una variable aleatoria uniforme para identificar si la instrucción es simple o compleja, en base a eso se generará el tiempo que demora en arribar y procesarse. Luego, se simulará otra variable aleatoria uniforme para ver si la instrucción busca datos en memoria o no. Si necesita ir a buscar datos a memoria, entonces se elegirá entre la alternativa 1 o la 2.\n",
    "Cada experiencia si simulará múltiples veces para corroborar cual es la mejora alternativa en varias experiencias"
   ]
  },
  {
   "cell_type": "code",
   "execution_count": null,
   "metadata": {},
   "outputs": [],
   "source": [
    "def inversa_exponencial(lam = 1):\n",
    "    u = random()\n",
    "    return (-1/lam) * math.log(1 - u)\n",
    "\n",
    "def tiempo_de_procesamiento(ProbabilidadInstruccionSimple,\n",
    "                            ProbabilidadDatoMemoria,\n",
    "                            TasaArriboInstruccionSimple,\n",
    "                            TasaArriboInstruccionCompleja,\n",
    "                            TasaEjecucionInstruccionSimple,\n",
    "                            TasaEjecucionInstruccionCompleja,\n",
    "                            TasaBuscarDatosMemoriaAlternativa1,\n",
    "                            ProbabilidadDatoEnCache,\n",
    "                            TasaAccesoMemoriaCache,\n",
    "                            TasaAccesoMemoriaNoCache,\n",
    "                            alternativa = 1,\n",
    "                            exp_func = inversa_exponencial):\n",
    "    u_P = random() # probabilidad de que la instruccion sea simple\n",
    "    if u_P < ProbabilidadInstruccionSimple: # la instruccion es simple\n",
    "        Talt1 = exp_func(TasaArriboInstruccionSimple) # tiempo de arribo\n",
    "        Talt1 = Talt1 + exp_func(TasaEjecucionInstruccionSimple) # tiempo en ser ejecutadas\n",
    "    else:\n",
    "        Talt1 = exp_func(TasaArriboInstruccionCompleja) # tiempo de arribo\n",
    "        Talt1 = Talt1 + exp_func(TasaEjecucionInstruccionCompleja) # tiempo en ser ejecutadas\n",
    "\n",
    "    u_M = random() # probabilidad de que tenga que ir a buscar datos a memoria\n",
    "    if u_M < ProbabilidadDatoMemoria: # busca datos en memoria\n",
    "        if alternativa == 1:\n",
    "            Talt1 = Talt1 + exp_func(TasaBuscarDatosMemoriaAlternativa1) # tiempo de buscar en memoria con la alternativa 1\n",
    "        else: # alternativa 2\n",
    "            u_PC = random()\n",
    "            if u_PC < ProbabilidadDatoEnCache: # el dato se encuentra en cache\n",
    "                Talt1 = Talt1 + exp_func(TasaAccesoMemoriaCache)\n",
    "            else:\n",
    "                Talt1 = Talt1 + exp_func(TasaAccesoMemoriaNoCache)\n",
    "                \n",
    "    return Talt1\n",
    "        \n",
    "TasaArriboInstruccion = 250 # tasa de arribo de insutrucciones a un micro\n",
    "\n",
    "ProbabilidadInstruccionSimple = 0.6 # probabilidad que la instruccione sea simple\n",
    "\n",
    "TasaArriboInstruccionSimple = ProbabilidadInstruccionSimple * TasaArriboInstruccion  # tasa de arribo de una instruccion simple a un micro\n",
    "TasaArriboInstruccionCompleja = (1-ProbabilidadInstruccionSimple) * TasaArriboInstruccion # tasa de arribo de una instruccion compuesta a un micro\n",
    "\n",
    "TasaEjecucionInstruccionSimple = 60 # tasa que demora una instruccion simple en ser ejecutada\n",
    "TasaEjecucionInstruccionCompleja = 10 # tasa que demora una instruccion compuesta en ser ejecutada\n",
    "\n",
    "TasaBuscarDatosMemoriaAlternativa1 = 2000 # tasa de buscar datos en memoria con la alternativa 1\n",
    "\n",
    "ProbabilidadDatoMemoria = 0.65 # probabilidad de tener que buscar un dato en memoria\n",
    "\n",
    "ProbabilidadDatoEnCache = 0.6 # probabilidad de encontrar el dato requerido en memoria cache\n",
    "TasaAccesoMemoriaCache = 500 # tasa de buscar datos en memoria cache con la alternativa 2\n",
    "TasaAccesoMemoriaNoCache = 1500 # tasa de buscar datos en emmoria principal con la alternativa 2\n",
    "\n",
    "\n",
    "n = 100\n",
    "for j in range(4):\n",
    "    t1 = 0\n",
    "    t2 = 0\n",
    "    for datos in range(n):\n",
    "        # alternativa 1\n",
    "        t1 = t1 + tiempo_de_procesamiento(ProbabilidadInstruccionSimple,\n",
    "                                          ProbabilidadDatoMemoria,\n",
    "                                          TasaArriboInstruccionSimple,\n",
    "                                          TasaArriboInstruccionCompleja,\n",
    "                                          TasaEjecucionInstruccionSimple,\n",
    "                                          TasaEjecucionInstruccionCompleja,\n",
    "                                          TasaBuscarDatosMemoriaAlternativa1,\n",
    "                                          ProbabilidadDatoEnCache,\n",
    "                                          TasaAccesoMemoriaCache,\n",
    "                                          TasaAccesoMemoriaNoCache,\n",
    "                                          1,\n",
    "                                          inversa_exponencial)\n",
    "\n",
    "        # alternativa 2\n",
    "        t2 = t2 + tiempo_de_procesamiento(ProbabilidadInstruccionSimple,\n",
    "                                          ProbabilidadDatoMemoria,\n",
    "                                          TasaArriboInstruccionSimple,\n",
    "                                          TasaArriboInstruccionCompleja,\n",
    "                                          TasaEjecucionInstruccionSimple,\n",
    "                                          TasaEjecucionInstruccionCompleja,\n",
    "                                          TasaBuscarDatosMemoriaAlternativa1,\n",
    "                                          ProbabilidadDatoEnCache,\n",
    "                                          TasaAccesoMemoriaCache,\n",
    "                                          TasaAccesoMemoriaNoCache,\n",
    "                                          2,\n",
    "                                          inversa_exponencial)\n",
    "    \n",
    "    print(\"Para \",n,\" datos | \",\"ALTERNATIVA 1 = \",t1,\" microseg\",\", ALTERNATIVA 2 = \",t2,\" microseg\")\n",
    "    n = n * 10"
   ]
  },
  {
   "cell_type": "markdown",
   "metadata": {},
   "source": [
    "En la ejecución, observamos que la alternativa 1 parece ser levemente mejor que la 2. Sin embargo, no hay tanto diferencia, por lo que podemos repetir estas experiencias (por ej. para n = 1000) varias veces y contar en cuantas oportunidades t2 > t1"
   ]
  },
  {
   "cell_type": "code",
   "execution_count": null,
   "metadata": {},
   "outputs": [],
   "source": [
    "n = 1000\n",
    "count1 = count2 = 0\n",
    "for count in range(10000):\n",
    "    t1 = 0\n",
    "    t2 = 0\n",
    "    \n",
    "    for datos in range(n):\n",
    "        # alternativa 1\n",
    "        t1 = t1 + tiempo_de_procesamiento(ProbabilidadInstruccionSimple,\n",
    "                                          ProbabilidadDatoMemoria,\n",
    "                                          TasaArriboInstruccionSimple,\n",
    "                                          TasaArriboInstruccionCompleja,\n",
    "                                          TasaEjecucionInstruccionSimple,\n",
    "                                          TasaEjecucionInstruccionCompleja,\n",
    "                                          TasaBuscarDatosMemoriaAlternativa1,\n",
    "                                          ProbabilidadDatoEnCache,\n",
    "                                          TasaAccesoMemoriaCache,\n",
    "                                          TasaAccesoMemoriaNoCache,\n",
    "                                          1,\n",
    "                                          inversa_exponencial)\n",
    "\n",
    "        # alternativa 2\n",
    "        t2 = t2 + tiempo_de_procesamiento(ProbabilidadInstruccionSimple,\n",
    "                                          ProbabilidadDatoMemoria,\n",
    "                                          TasaArriboInstruccionSimple,\n",
    "                                          TasaArriboInstruccionCompleja,\n",
    "                                          TasaEjecucionInstruccionSimple,\n",
    "                                          TasaEjecucionInstruccionCompleja,\n",
    "                                          TasaBuscarDatosMemoriaAlternativa1,\n",
    "                                          ProbabilidadDatoEnCache,\n",
    "                                          TasaAccesoMemoriaCache,\n",
    "                                          TasaAccesoMemoriaNoCache,\n",
    "                                          2,\n",
    "                                          inversa_exponencial)\n",
    "    \n",
    "    if t1 < t2:\n",
    "        count1 = count1 + 1\n",
    "    else:\n",
    "        count2 = count2 + 1\n",
    "        \n",
    "if count2 > count1:\n",
    "    print(\"La alternativa 2 demoró menos tiempo una mayor cantidad de veces que la alternativa 1\")\n",
    "else:\n",
    "    print(\"La alternativa 1 demoró menos tiempo una mayor cantidad de veces que la alternativa 2\")"
   ]
  },
  {
   "cell_type": "markdown",
   "metadata": {},
   "source": [
    "Entonces efectivamente, cuando realizamos las las experncias y las contamos, en general la alternativa 1 demora menos"
   ]
  },
  {
   "attachments": {
    "fomrula_ej2.png": {
     "image/png": "[encoded data removed]"
    }
   },
   "cell_type": "markdown",
   "metadata": {},
   "source": [
    "# Cadenas de Markov\n",
    "\n",
    "## Ejercicio 2 \n",
    "\n",
    "Una entidad bancaria se encuentra analizando cuantos clientes en simultáneo están conectados a su home banking.\n",
    "Para ello comenzó a monitorear cada minuto la cantidad de clientes activos, y analizó como se modifica esta cantidad de una observación a la siguiente.\n",
    "Se determinó que la probabilidad que la cantidad de clientes conectados aumentara, o se mantenga igual, podía modelarse utilizando una distribución de probabilidad Binomial, mientras que la probabilidad de tener menos clientes conectados respondía a una distribución uniforme.\n",
    "Siendo i y j dos cantidades de usuarios conectados al sistema. \n",
    "\n",
    "![fomrula_ej2.png](attachment:fomrula_ej2.png)\n",
    "\n",
    "Se sabe además que la probabilidad que un cliente se conecte al sitio es p=0,7 (Por simplicidad supondremos que el servidor de este home banking permite cómo máximo 50 clientes en simultáneo) \n",
    "\n",
    "a) Determinar la matriz de transición de estados explicando cómo se obtiene la misma.\n",
    "\n",
    "b) Utilizando Matlab, Octave o Python simular una posible evolución del sistema a lo largo de 100 observaciones graficando cómo se modifica la cantidad de clientes conectados en cada momento.\n",
    "\n",
    "c) Simulando 100.000 observaciones realizar un histograma mostrando cuantas veces el sistema estuvo en cada estado. (Recomendación: utilizar tantas categorías en el histograma como estados tiene el sistema).\n",
    "\n",
    "d) Determinar el % de tiempo que en el home banking no tuvo clientes conectados.\n",
    "\n",
    "e) Se está evaluando migrar el home banking a un servidor que permitiría cómo máximo 40 clientes conectados en simultáneo. La migración sólo se realizaría si la probabilidad de tener más de 40 clientes es menor a 10%. Indique si se puede recomendar realizar la migración. "
   ]
  },
  {
   "cell_type": "markdown",
   "metadata": {},
   "source": [
    "### a)\n",
    "Sabiendo que n = 50 es la cantidad máxima de clientes y p = 0.7 la probabilidad de conectarse al sistema, podemos calcular la matriz de transición de la siguiente manera:\n",
    "* Primero calculamos las transiciones donde j >= i, es decir, 0 -> 1, 0 -> 2, ..., 0 -> 50, 1 -> 2, 1 -> 3, ..., 1 -> 50, ..., 49 -> 50, 50 -> 50\n",
    "* Luego calculamos las transiciones donde j < i, es decir, 1 -> 0, 2 -> 0, 2 -> 1, ..., 50 -> 0, 50 -> 1, ..., 50 -> 49\n",
    "* Con estos dos vectores, podemos armar la matriz de transición colocando los resultados en la posición (i,j)"
   ]
  },
  {
   "cell_type": "code",
   "execution_count": null,
   "metadata": {},
   "outputs": [],
   "source": [
    "def combinatoria(m, n):\n",
    "    return math.factorial(m) / (math.factorial(n) * math.factorial(m - n))\n",
    "\n",
    "def sumatoria(matrix, begin, n):\n",
    "    suma = 0\n",
    "    for j in range(begin, n + 1):\n",
    "        suma = suma + matrix[begin][j]\n",
    "    return suma\n",
    "    \n",
    "n = 50\n",
    "p = 0.7\n",
    "P = [[0 for i in range(n + 1)] for j in range(n + 1)]\n",
    "for i in range(n + 1):\n",
    "    for j in range(n + 1):\n",
    "        if(j >= i): # binomial\n",
    "            P[i][j] = round(combinatoria(n,j-i) * (p ** (j-i)) * ((1 - p) ** (n-(j-i))), 3)\n",
    "        else: # uniforme\n",
    "            P[i][j] = round((1 - sumatoria(P,i,n)) / (i), 3) # (i - 1) TODO: PREGUNTAR!!!!"
   ]
  },
  {
   "cell_type": "markdown",
   "metadata": {},
   "source": [
    "### b)\n",
    "\n",
    "Podemos suponer que inicialmente no habia ningún cliente conectado, por lo que, P0 = [1 0 ... 0]. Si multiplicamos P0 por P, obtenemos la probabilidad del estado siguiente. Si lo repetimos 100 veces, retroalimentando nuestro sistema, podemos simular como evoluciona la cadena"
   ]
  },
  {
   "cell_type": "code",
   "execution_count": 4,
   "metadata": {},
   "outputs": [
    {
     "data": {
      "image/png": "[encoded data removed]",
      "text/plain": [
       "<Figure size 1152x576 with 1 Axes>"
      ]
     },
     "metadata": {
      "needs_background": "light"
     },
     "output_type": "display_data"
    }
   ],
   "source": [
    "import matplotlib.pyplot as plt\n",
    "\n",
    "width = 16\n",
    "height = 8\n",
    "plt.figure(figsize=(width, height))\n",
    "\n",
    "P0 = [ 0 for i in range(n + 1)]\n",
    "P0[0] = 1 # no hay ningun cliente al comienzo\n",
    "\n",
    "result = []\n",
    "for iexp in range(100):\n",
    "    u = random()\n",
    "    #Armo el vector de probabilidad acumulada\n",
    "    PAcum = [P0[0]]\n",
    "    for index in range(1, len(P0)):\n",
    "        PAcum.append(PAcum[index - 1] + P0[index])\n",
    "\n",
    "    i = 1\n",
    "    while i < len(P0):\n",
    "        if u > PAcum[i] and u < PAcum[i-1]:\n",
    "            break;\n",
    "        else:\n",
    "            i = i + 1\n",
    "        \n",
    "    result.append(i-1) # guardo\n",
    "    np.linalg.matrix_power(P, iexp)\n",
    "    P0 = np.dot(P0, P)\n",
    "\n",
    "plt.plot(result)\n",
    "plt.ylabel('Cantidad de conectados')\n",
    "plt.xlabel('Instante')\n",
    "plt.show()"
   ]
  },
  {
   "cell_type": "markdown",
   "metadata": {},
   "source": [
    "### c)\n",
    "\n",
    "Vamos a aplicar la misma lógica que en el ejercicio anterior, pero esta vez contando cuantas veces hay cada cantidad de trabajadores."
   ]
  },
  {
   "cell_type": "code",
   "execution_count": null,
   "metadata": {},
   "outputs": [],
   "source": [
    "width = 16\n",
    "height = 8\n",
    "plt.figure(figsize=(width, height))\n",
    "\n",
    "P0 = [ 0 for i in range(n + 1)]\n",
    "P0[0] = 1 # no hay ningun cliente al comienzo\n",
    "contador = [0 for i in range(n + 1)]\n",
    "\n",
    "for iexp in range(1000): #TODO: Cambiar a 100000\n",
    "    u = random()\n",
    "    #Armo el vector de probabilidad acumulada\n",
    "    PAcum = [P0[0]]\n",
    "    for index in range(1, len(P0)):\n",
    "        PAcum.append(PAcum[index - 1] + P0[index])\n",
    "    \n",
    "    i = 1\n",
    "    while i < len(P0):\n",
    "        if u > PAcum[i] and u < PAcum[i-1]:\n",
    "            break;\n",
    "        else:\n",
    "            i = i + 1\n",
    "        \n",
    "    contador[i - 1] += 1 # guardo\n",
    "    #np.linalg.matrix_power(P, iexp)\n",
    "    P0 = np.dot(P0, P)\n",
    "    \n",
    "plt.hist(result, bins = 51)\n",
    "plt.ylabel('Cantidad de repeticiones')\n",
    "plt.xlabel('Cantidad de conectados')\n",
    "plt.show()"
   ]
  },
  {
   "cell_type": "code",
   "execution_count": null,
   "metadata": {},
   "outputs": [],
   "source": [
    "print(contador)"
   ]
  },
  {
   "cell_type": "markdown",
   "metadata": {},
   "source": [
    "### d)\n",
    "\n",
    "Dos formas: sacamos el porcentaje de steps que tuvieron 0 conectados en el punto c, o buscamos la matriz de convergencia para ver el % de tiempo teorico"
   ]
  },
  {
   "cell_type": "code",
   "execution_count": null,
   "metadata": {},
   "outputs": [],
   "source": [
    "# TODO: CAMBIAR PORQUE ESTA DIVIENDO POR 1000\n",
    "print(\"De acuerdo con la simulación del punto c, el % de tiempo que no tuvo clientes conectados fue %\" + str(contador[0] / 1000))"
   ]
  },
  {
   "cell_type": "code",
   "execution_count": null,
   "metadata": {},
   "outputs": [],
   "source": [
    "from numpy import matrix\n",
    "\n",
    "P_asintotica = matrix(P) ** 10000\n",
    "print(\"De acuerdo con la matriz asintotica, el % de tiempo que no tuvo clientes conectados fue %\" + str(P_asintotica.tolist()[0][0] * 100))\n"
   ]
  },
  {
   "cell_type": "markdown",
   "metadata": {},
   "source": [
    "### e)\n",
    "\n",
    "Dos formas: sacamos el porcentaje de steps que tuvieron 41 a 50 conectados en el punto c, o buscamos la matriz de convergencia para ver la probabilidad de que haya 41 a 50 usuarios conectados"
   ]
  },
  {
   "cell_type": "code",
   "execution_count": null,
   "metadata": {},
   "outputs": [],
   "source": [
    "cantidad_mayor_40 = 0\n",
    "for i in range(41, 51):\n",
    "    cantidad_mayor_40 += contador[i]\n",
    "\n",
    "# TODO: CAMBIAR PORQUE ESTA DIVIENDO POR 1000\n",
    "print(\"De acuerdo con la simulación del punto c, la probabilidad de que haya mas de 40 usuarios conectados en simultaneo es \" + str(cantidad_mayor_40 / 1000))"
   ]
  },
  {
   "cell_type": "code",
   "execution_count": null,
   "metadata": {},
   "outputs": [],
   "source": [
    "probabilidad_mayor_40 = 0\n",
    "for i in range(41, 51):\n",
    "    probabilidad_mayor_40 += P_asintotica.tolist()[0][i]\n",
    "\n",
    "print(\"De acuerdo con la matriz asintotica, la probabilidad de que haya mas de 40 usuarios conectados en simultaneo es \" + str(probabilidad_mayor_40))"
   ]
  },
  {
   "cell_type": "markdown",
   "metadata": {},
   "source": [
    "# Sistemas dinámicos\n",
    "\n",
    "## Ejericio 3\n",
    "\n",
    "TODO: Agregar descripción del problema\n"
   ]
  },
  {
   "cell_type": "code",
   "execution_count": null,
   "metadata": {},
   "outputs": [],
   "source": [
    "a = 9\n",
    "b = 1.1\n",
    "c = 0.4\n",
    "d = 1\n",
    "\n",
    "def obtener_Q_oferta_t(c, d, P, t):\n",
    "    return d * P[t-1] - c\n",
    "        \n",
    "def obtener_Q_demanda_t(a, b, P, t):\n",
    "    return a - b*P[t]\n",
    "    \n",
    "P = [8]\n",
    "Q_demanda = [obtener_Q_demanda_t(a, b, P, 0)]\n",
    "Q_oferta = [obtener_Q_oferta_t(c, d, P, 0)]"
   ]
  },
  {
   "cell_type": "markdown",
   "metadata": {},
   "source": [
    "### 1) \n",
    "\n",
    "El sistema es discreto, de primer orden? (usa variables del mismo t), y autónomo."
   ]
  },
  {
   "cell_type": "markdown",
   "metadata": {},
   "source": [
    "# Simpy\n",
    "\n",
    "## Ejercicio 4 \n",
    "\n",
    "Resolver el Ejercicio 1 utilizando Simpy y comparar los resultados obtenidos con los obtenidos en el Ejercicio1. "
   ]
  },
  {
   "cell_type": "markdown",
   "metadata": {},
   "source": [
    "Al igual que en el ejercicio 2, miramos los tiempos de ejecucion de cada alternativa pero pasandole al calulador de tiempo alguna función que genere exponenciales de Simpy"
   ]
  },
  {
   "cell_type": "code",
   "execution_count": null,
   "metadata": {},
   "outputs": [],
   "source": [
    "# TODO: corregir con lo que se va a ver en clase\n",
    "n = 100\n",
    "for j in range(4):\n",
    "    t1 = 0\n",
    "    t2 = 0\n",
    "    for datos in range(n):\n",
    "        # alternativa 1\n",
    "        t1 = t1 + tiempo_de_procesamiento(ProbabilidadInstruccionSimple,\n",
    "                                          ProbabilidadDatoMemoria,\n",
    "                                          TasaArriboInstruccionSimple,\n",
    "                                          TasaArriboInstruccionCompleja,\n",
    "                                          TasaEjecucionInstruccionSimple,\n",
    "                                          TasaEjecucionInstruccionCompleja,\n",
    "                                          TasaBuscarDatosMemoriaAlternativa1,\n",
    "                                          ProbabilidadDatoEnCache,\n",
    "                                          TasaAccesoMemoriaCache,\n",
    "                                          TasaAccesoMemoriaNoCache,\n",
    "                                          1,\n",
    "                                          inversa_exponencial)\n",
    "\n",
    "        # alternativa 2\n",
    "        t2 = t2 + tiempo_de_procesamiento(ProbabilidadInstruccionSimple,\n",
    "                                          ProbabilidadDatoMemoria,\n",
    "                                          TasaArriboInstruccionSimple,\n",
    "                                          TasaArriboInstruccionCompleja,\n",
    "                                          TasaEjecucionInstruccionSimple,\n",
    "                                          TasaEjecucionInstruccionCompleja,\n",
    "                                          TasaBuscarDatosMemoriaAlternativa1,\n",
    "                                          ProbabilidadDatoEnCache,\n",
    "                                          TasaAccesoMemoriaCache,\n",
    "                                          TasaAccesoMemoriaNoCache,\n",
    "                                          2,\n",
    "                                          inversa_exponencial)\n",
    "    \n",
    "    print(\"Para \",n,\" datos | \",\"ALTERNATIVA 1 = \",t1,\" microseg\",\", ALTERNATIVA 2 = \",t2,\" microseg\")\n",
    "    n = n * 10"
   ]
  }
 ],
 "metadata": {
  "kernelspec": {
   "display_name": "Python 3",
   "language": "python",
   "name": "python3"
  },
  "language_info": {
   "codemirror_mode": {
    "name": "ipython",
    "version": 3
   },
   "file_extension": ".py",
   "mimetype": "text/x-python",
   "name": "python",
   "nbconvert_exporter": "python",
   "pygments_lexer": "ipython3",
   "version": "3.7.3"
  }
 },
 "nbformat": 4,
 "nbformat_minor": 2
}
