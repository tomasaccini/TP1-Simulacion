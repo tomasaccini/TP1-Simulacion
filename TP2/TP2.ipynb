{
 "cells": [
  {
   "cell_type": "markdown",
   "metadata": {},
   "source": [
    "# Trabajo práctico 2 - Simulación"
   ]
  },
  {
   "cell_type": "code",
   "execution_count": 6,
   "metadata": {},
   "outputs": [
    {
     "name": "stdout",
     "output_type": "stream",
     "text": [
      "Requirement already satisfied: scipy in /home/juanzaragoza/python_datos_env/lib/python3.5/site-packages (0.19.1)\n",
      "Requirement already satisfied: numpy>=1.8.2 in /home/juanzaragoza/python_datos_env/lib/python3.5/site-packages (from scipy) (1.13.1)\n",
      "\u001b[33mYou are using pip version 19.0.3, however version 19.1.1 is available.\n",
      "You should consider upgrading via the 'pip install --upgrade pip' command.\u001b[0m\n"
     ]
    }
   ],
   "source": [
    "import sys\n",
    "!{sys.executable} -m pip install scipy\n",
    "\n",
    "import matplotlib.pyplot as plt\n",
    "from collections import Counter\n",
    "from random import random\n",
    "import math\n",
    "import scipy.stats as st\n",
    "import numpy as np"
   ]
  },
  {
   "cell_type": "markdown",
   "metadata": {},
   "source": [
    "## Ejercicio 1\n",
    "\n",
    "Utilizando Matlab, Octave o Python (sin utilizar Simpy) se debe determinar con cuál de las siguientes 2 arquitecturas nos permite tener un menor tiempo de procesamiento.\n",
    "A un procesador arriban instrucciones siguiendo una distribución exponencial con una tasa de 250 instrucciones por\n",
    "microsegundo.\n",
    "Las instrucciones se pueden agrupar en las siguientes categorías, y en función de ella es el tiempo que demoran en ser ejecutadas el cual sigue una distribución exponencial con parámetro lambda especificado a continuación.\n",
    "\n",
    "| Tipo de instrucción | Probabilidad | Tasa del tiempo de ejecución (instrucciones por µseg) |\n",
    "|:-------------------:|:------------:|:-----------------------------------------------------:|\n",
    "|        Simple       |      0,6     |                           60                          |\n",
    "|       Compleja      |      0,4     |                           10                          |\n",
    "\n",
    "Se sabe que el 65% de las instrucciones requieren buscar datos en memoria para antes de ser ejecutadas.\n",
    "En este punto se plantean dos alternativas: \n",
    "\n",
    "\n",
    "<table>\n",
    " <tr>\n",
    "    <td style=\"text-align: left; width: 100px;\"><b>Alternativa 1:</b></td>\n",
    "    <td style=\"text-align: left;\">Cada vez que se requiera un dato de memoria se lo busca en memoria principal. Tarea cuyo tiempo corresponde a una distribución exponencial con una tasa de 2000 instrucciones por microsegundo. </td>\n",
    " </tr>\n",
    " <tr>\n",
    "    <td style=\"text-align: left; width: 100px;\"><b>Alternativa 2:</b></td>\n",
    "    <td style=\"text-align: left;\">Implementar un Caché, con el cual existiría una probabilidad de .6 de encontrar el dato requerido y no tener la necesidad de buscarlo en memoria principal.\n",
    " El tiempo de acceso a este caché se puede modelar siguiendo una distribución exponencial con una\n",
    "tasa de 500 instrucciones por microsegundo.\n",
    " Cuando el dato no es encontrado en el caché y debe buscarse en memoria principal donde su demora\n",
    "también sigue una distribución exponencial con una tasa de 1500 instrucciones por microsegundo. </td>\n",
    " </tr>\n",
    "</table>"
   ]
  },
  {
   "cell_type": "markdown",
   "metadata": {},
   "source": [
    "El arribo de instrucciones a un procesador se pueden modelar como un proceso de Poisson debido a que los arribos siguen una distribución exponencial de 250 instrucciones/us.\n",
    "\n",
    "Sean:\n",
    "\n",
    "$\\Pi$ = \"Arribo de instrucciones a un procesador\" ~ Poi($\\lambda$ = 250 ins/$\\mu$s)\n",
    "\n",
    "$\\Pi_{1}$ = \"Arribo de una instrucción simples a un procesador\" ~ Poi($\\lambda_{1}$ = 0,6 * 250 ins/$\\mu$s)\n",
    "\n",
    "$\\Pi_{2}$ = \"Arribo de una instruccións complejas a un procesador\" ~ Poi($\\lambda_{2}$ = 0,4 * 250 ins/$\\mu$s)\n",
    "\n",
    "$T_{P1}$ = \"Tiempo que demora una instrucción simple en ser ejecutada\" ~ exp($\\lambda_{P1}$ = 60 ins/$\\mu$s)\n",
    "\n",
    "$T_{P2}$ = \"Tiempo que demora una instrucción compleja en ser ejecutada\" ~ exp($\\lambda_{P2}$ = 10 ins/$\\mu$s)\n",
    "\n",
    "$P_{M}$ = \"Probabilidad de tener que buscar el dato en memoria\" = 0.65\n",
    "\n",
    "<b>Para alternativa 1</b>\n",
    "\n",
    "$T_{1}$ = \"Tiempo que demora el procesador en buscar un dato en memoria\" ~ exp($\\lambda_{T1}$ = 2000 ins/$\\mu$s)\n",
    "\n",
    "<b>Para alternativa 2</b>\n",
    "\n",
    "$P_{C}$ = \"Probabilidad de que el dato se encuentre en caché\" = 0.6\n",
    "\n",
    "$T_{C}$ = \"Tiempo que demora el procesador en buscar el dato en caché\" ~ exp($\\lambda_{C}$ = 500 ins/$\\mu$s)\n",
    "\n",
    "$T_{NC}$ = \"Tiempo que demora el procesador en buscar el dato en memoria y volcarlo en caché\" ~ exp($\\lambda_{NC}$ = 1500 ins/$\\mu$s)"
   ]
  },
  {
   "cell_type": "markdown",
   "metadata": {},
   "source": [
    "Para resolver el problema, se simulará una variable aleatoria uniforme para identificar si la instrucción es simple o compleja, en base a eso se generará el tiempo que demora en arribar y procesarse. Luego, se simulará otra variable aleatoria uniforme para ver si la instrucción busca datos en memoria o no. Si necesita ir a buscar datos a memoria, entonces se elegirá entre la alternativa 1 o la 2.\n",
    "Cada experiencia si simulará múltiples veces para corroborar cual es la mejora alternativa en varias experiencias"
   ]
  },
  {
   "cell_type": "code",
   "execution_count": 13,
   "metadata": {},
   "outputs": [
    {
     "name": "stdout",
     "output_type": "stream",
     "text": [
      "Para  100  datos |  ALTERNATIVA 1 =  5.85061568219554  microseg , ALTERNATIVA 2 =  7.319538418295529  microseg\n",
      "Para  1000  datos |  ALTERNATIVA 1 =  58.7243006597534  microseg , ALTERNATIVA 2 =  60.862569570092894  microseg\n",
      "Para  10000  datos |  ALTERNATIVA 1 =  590.8384967059254  microseg , ALTERNATIVA 2 =  593.1942654921464  microseg\n",
      "Para  100000  datos |  ALTERNATIVA 1 =  5806.544350400481  microseg , ALTERNATIVA 2 =  5884.448548497947  microseg\n"
     ]
    }
   ],
   "source": [
    "def inversa_exponencial(u, lam = 1):\n",
    "    return (-1/lam) * math.log(1 - u)\n",
    "\n",
    "def tiempo_de_procesamiento(PS, PM, lam1, lam2, lamP1, lamP2, lamT1, PC, lamC, lamNC, alternativa = 1):\n",
    "    u_P = random() # probabilidad de que la instruccion sea simple\n",
    "    if u_P < PS: # la instruccion es simple\n",
    "        Talt1 = inversa_exponencial(random(), lam1) # tiempo de arribo\n",
    "        Talt1 = Talt1 + inversa_exponencial(random(), lamP1) # tiempo en ser ejecutadas\n",
    "    else:\n",
    "        Talt1 = inversa_exponencial(random(), lam2) # tiempo de arribo\n",
    "        Talt1 = Talt1 + inversa_exponencial(random(), lamP2) # tiempo en ser ejecutadas\n",
    "\n",
    "    u_M = random() # probabilidad de que tenga que ir a buscar datos a memoria\n",
    "    if u_M < PM: # busca datos en memoria\n",
    "        if alternativa == 1:\n",
    "            Talt1 = Talt1 + inversa_exponencial(random(), lamT1) # tiempo de buscar en memoria con la alternativa 1\n",
    "        else: # alternativa 2\n",
    "            u_PC = random()\n",
    "            if u_PC < PC: # el dato se encuentra en cache\n",
    "                Talt1 = Talt1 + inversa_exponencial(random(), lamC)\n",
    "            else:\n",
    "                Talt1 = Talt1 + inversa_exponencial(random(), lamNC)\n",
    "                \n",
    "    return Talt1\n",
    "        \n",
    "lam = 250 # tasa de arribo de insutrucciones a un micro\n",
    "\n",
    "PS = 0.6 # probabilidad que la instruccione sea simple\n",
    "\n",
    "lam1 = PS * lam  # tasa de arribo de una instruccion simple a un micro\n",
    "lam2 = (1-PS) * lam # tasa de arribo de una instruccion compuesta a un micro\n",
    "\n",
    "lamP1 = 60 # tasa que demora una instruccion simple en ser ejecutada\n",
    "lamP2 = 10 # tasa que demora una instruccion compuesta en ser ejecutada\n",
    "\n",
    "lamT1 = 2000 # tasa de buscar datos en memoria con la alternativa 1\n",
    "\n",
    "PM = 0.65 # probabilidad de tener que buscar un dato en memoria\n",
    "\n",
    "PC = 0.6\n",
    "lamC = 500\n",
    "lamNC = 1500\n",
    "\n",
    "\n",
    "n = 100\n",
    "for j in range(4):\n",
    "    t1 = 0\n",
    "    t2 = 0\n",
    "    for datos in range(n):\n",
    "        # alternativa 1\n",
    "        t1 = t1 + tiempo_de_procesamiento(PS, PM, lam1, lam2, lamP1, lamP2, lamT1, PC, lamC, lamNC, 1)\n",
    "\n",
    "        # alternativa 2\n",
    "        t2 = t2 + tiempo_de_procesamiento(PS, PM, lam1, lam2, lamP1, lamP2, lamT1, PC, lamC, lamNC, 2)\n",
    "    \n",
    "    print(\"Para \",n,\" datos | \",\"ALTERNATIVA 1 = \",t1,\" microseg\",\", ALTERNATIVA 2 = \",t2,\" microseg\")\n",
    "    n = n * 10"
   ]
  },
  {
   "cell_type": "markdown",
   "metadata": {},
   "source": [
    "En la ejecución, observamos que la alternativa 1 parece ser levemente mejor que la 2. Sin embargo, no hay tanto diferencia, por lo que podemos repetir estas experiencias (por ej. para n = 1000) varias veces y contar en cuantas oportunidades t2 > t1"
   ]
  },
  {
   "cell_type": "code",
   "execution_count": 20,
   "metadata": {},
   "outputs": [
    {
     "name": "stdout",
     "output_type": "stream",
     "text": [
      "La alternativa 1 demoró menos tiempo una mayor cantidad de veces que la alternativa 2\n"
     ]
    }
   ],
   "source": [
    "n = 1000\n",
    "count1 = count2 = 0\n",
    "for count in range(10000):\n",
    "    t1 = 0\n",
    "    t2 = 0\n",
    "    \n",
    "    for datos in range(n):\n",
    "        # alternativa 1\n",
    "        t1 = t1 + tiempo_de_procesamiento(PS, PM, lam1, lam2, lamP1, lamP2, lamT1, PC, lamC, lamNC, 1)\n",
    "\n",
    "        # alternativa 2\n",
    "        t2 = t2 + tiempo_de_procesamiento(PS, PM, lam1, lam2, lamP1, lamP2, lamT1, PC, lamC, lamNC, 2)\n",
    "    \n",
    "    if t1 < t2:\n",
    "        count1 = count1 + 1\n",
    "    else:\n",
    "        count2 = count2 + 1\n",
    "        \n",
    "if count2 > count1:\n",
    "    print(\"La alternativa 2 demoró menos tiempo una mayor cantidad de veces que la alternativa 1\")\n",
    "else:\n",
    "    print(\"La alternativa 1 demoró menos tiempo una mayor cantidad de veces que la alternativa 2\")"
   ]
  },
  {
   "cell_type": "markdown",
   "metadata": {},
   "source": [
    "Entonces efectivamente, cuando realizamos las las experncias y las contamos, en general la alternativa 1 demora menos"
   ]
  },
  {
   "cell_type": "code",
   "execution_count": null,
   "metadata": {
    "collapsed": true
   },
   "outputs": [],
   "source": []
  }
 ],
 "metadata": {
  "kernelspec": {
   "display_name": "Python 3",
   "language": "python",
   "name": "python3"
  },
  "language_info": {
   "codemirror_mode": {
    "name": "ipython",
    "version": 3
   },
   "file_extension": ".py",
   "mimetype": "text/x-python",
   "name": "python",
   "nbconvert_exporter": "python",
   "pygments_lexer": "ipython3",
   "version": "3.5.2"
  }
 },
 "nbformat": 4,
 "nbformat_minor": 2
}
