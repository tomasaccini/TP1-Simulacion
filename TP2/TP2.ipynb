{
 "cells": [
  {
   "cell_type": "markdown",
   "metadata": {},
   "source": [
    "# Trabajo práctico 2 - Simulación"
   ]
  },
  {
   "cell_type": "code",
   "execution_count": 67,
   "metadata": {},
   "outputs": [
    {
     "name": "stdout",
     "output_type": "stream",
     "text": [
      "Requirement already satisfied: scipy in /home/juanzaragoza/python_datos_env/lib/python3.5/site-packages (0.19.1)\n",
      "Requirement already satisfied: numpy>=1.8.2 in /home/juanzaragoza/python_datos_env/lib/python3.5/site-packages (from scipy) (1.13.1)\n",
      "\u001b[33mYou are using pip version 19.0.3, however version 19.1.1 is available.\n",
      "You should consider upgrading via the 'pip install --upgrade pip' command.\u001b[0m\n"
     ]
    }
   ],
   "source": [
    "import sys\n",
    "!{sys.executable} -m pip install scipy\n",
    "\n",
    "import matplotlib.pyplot as plt\n",
    "from collections import Counter\n",
    "from random import random\n",
    "import math\n",
    "import scipy.stats as st\n",
    "import numpy as np"
   ]
  },
  {
   "cell_type": "markdown",
   "metadata": {},
   "source": [
    "# Procesos de Poission\n",
    "\n",
    "## Ejercicio 1\n",
    "\n",
    "Utilizando Matlab, Octave o Python (sin utilizar Simpy) se debe determinar con cuál de las siguientes 2 arquitecturas nos permite tener un menor tiempo de procesamiento.\n",
    "A un procesador arriban instrucciones siguiendo una distribución exponencial con una tasa de 250 instrucciones por\n",
    "microsegundo.\n",
    "Las instrucciones se pueden agrupar en las siguientes categorías, y en función de ella es el tiempo que demoran en ser ejecutadas el cual sigue una distribución exponencial con parámetro lambda especificado a continuación.\n",
    "\n",
    "| Tipo de instrucción | Probabilidad | Tasa del tiempo de ejecución (instrucciones por µseg) |\n",
    "|:-------------------:|:------------:|:-----------------------------------------------------:|\n",
    "|        Simple       |      0,6     |                           60                          |\n",
    "|       Compleja      |      0,4     |                           10                          |\n",
    "\n",
    "Se sabe que el 65% de las instrucciones requieren buscar datos en memoria para antes de ser ejecutadas.\n",
    "En este punto se plantean dos alternativas: \n",
    "\n",
    "\n",
    "<table>\n",
    " <tr>\n",
    "    <td style=\"text-align: left; width: 100px;\"><b>Alternativa 1:</b></td>\n",
    "    <td style=\"text-align: left;\">Cada vez que se requiera un dato de memoria se lo busca en memoria principal. Tarea cuyo tiempo corresponde a una distribución exponencial con una tasa de 2000 instrucciones por microsegundo. </td>\n",
    " </tr>\n",
    " <tr>\n",
    "    <td style=\"text-align: left; width: 100px;\"><b>Alternativa 2:</b></td>\n",
    "    <td style=\"text-align: left;\">Implementar un Caché, con el cual existiría una probabilidad de .6 de encontrar el dato requerido y no tener la necesidad de buscarlo en memoria principal.\n",
    " El tiempo de acceso a este caché se puede modelar siguiendo una distribución exponencial con una\n",
    "tasa de 500 instrucciones por microsegundo.\n",
    " Cuando el dato no es encontrado en el caché y debe buscarse en memoria principal donde su demora\n",
    "también sigue una distribución exponencial con una tasa de 1500 instrucciones por microsegundo. </td>\n",
    " </tr>\n",
    "</table>"
   ]
  },
  {
   "cell_type": "markdown",
   "metadata": {},
   "source": [
    "El arribo de instrucciones a un procesador se pueden modelar como un proceso de Poisson debido a que los arribos siguen una distribución exponencial de 250 instrucciones/us.\n",
    "\n",
    "Sean:\n",
    "\n",
    "$\\Pi$ = \"Arribo de instrucciones a un procesador\" ~ Poi($\\lambda$ = 250 ins/$\\mu$s)\n",
    "\n",
    "$\\Pi_{1}$ = \"Arribo de una instrucción simples a un procesador\" ~ Poi($\\lambda_{1}$ = 0,6 * 250 ins/$\\mu$s)\n",
    "\n",
    "$\\Pi_{2}$ = \"Arribo de una instruccións complejas a un procesador\" ~ Poi($\\lambda_{2}$ = 0,4 * 250 ins/$\\mu$s)\n",
    "\n",
    "$T_{P1}$ = \"Tiempo que demora una instrucción simple en ser ejecutada\" ~ exp($\\lambda_{P1}$ = 60 ins/$\\mu$s)\n",
    "\n",
    "$T_{P2}$ = \"Tiempo que demora una instrucción compleja en ser ejecutada\" ~ exp($\\lambda_{P2}$ = 10 ins/$\\mu$s)\n",
    "\n",
    "$P_{M}$ = \"Probabilidad de tener que buscar el dato en memoria\" = 0.65\n",
    "\n",
    "<b>Para alternativa 1</b>\n",
    "\n",
    "$T_{1}$ = \"Tiempo que demora el procesador en buscar un dato en memoria\" ~ exp($\\lambda_{T1}$ = 2000 ins/$\\mu$s)\n",
    "\n",
    "<b>Para alternativa 2</b>\n",
    "\n",
    "$P_{C}$ = \"Probabilidad de que el dato se encuentre en caché\" = 0.6\n",
    "\n",
    "$T_{C}$ = \"Tiempo que demora el procesador en buscar el dato en caché\" ~ exp($\\lambda_{C}$ = 500 ins/$\\mu$s)\n",
    "\n",
    "$T_{NC}$ = \"Tiempo que demora el procesador en buscar el dato en memoria y volcarlo en caché\" ~ exp($\\lambda_{NC}$ = 1500 ins/$\\mu$s)"
   ]
  },
  {
   "cell_type": "markdown",
   "metadata": {},
   "source": [
    "Para resolver el problema, se simulará una variable aleatoria uniforme para identificar si la instrucción es simple o compleja, en base a eso se generará el tiempo que demora en arribar y procesarse. Luego, se simulará otra variable aleatoria uniforme para ver si la instrucción busca datos en memoria o no. Si necesita ir a buscar datos a memoria, entonces se elegirá entre la alternativa 1 o la 2.\n",
    "Cada experiencia si simulará múltiples veces para corroborar cual es la mejora alternativa en varias experiencias"
   ]
  },
  {
   "cell_type": "code",
   "execution_count": 68,
   "metadata": {},
   "outputs": [
    {
     "name": "stdout",
     "output_type": "stream",
     "text": [
      "Para  100  datos |  ALTERNATIVA 1 =  5.089024209539721  microseg , ALTERNATIVA 2 =  5.150478313634143  microseg\n",
      "Para  1000  datos |  ALTERNATIVA 1 =  60.69474216160722  microseg , ALTERNATIVA 2 =  60.16653566856284  microseg\n",
      "Para  10000  datos |  ALTERNATIVA 1 =  591.5068165045703  microseg , ALTERNATIVA 2 =  585.5781370528139  microseg\n",
      "Para  100000  datos |  ALTERNATIVA 1 =  5850.2699502046735  microseg , ALTERNATIVA 2 =  5921.755408246748  microseg\n"
     ]
    }
   ],
   "source": [
    "def inversa_exponencial(lam = 1):\n",
    "    u = random()\n",
    "    return (-1/lam) * math.log(1 - u)\n",
    "\n",
    "def tiempo_de_procesamiento(PS, PM, lam1, lam2, lamP1, lamP2, lamT1, PC, lamC, lamNC, alternativa = 1, exp_func = inversa_exponencial):\n",
    "    u_P = random() # probabilidad de que la instruccion sea simple\n",
    "    if u_P < PS: # la instruccion es simple\n",
    "        Talt1 = exp_func(lam1) # tiempo de arribo\n",
    "        Talt1 = Talt1 + exp_func(lamP1) # tiempo en ser ejecutadas\n",
    "    else:\n",
    "        Talt1 = exp_func(lam2) # tiempo de arribo\n",
    "        Talt1 = Talt1 + exp_func(lamP2) # tiempo en ser ejecutadas\n",
    "\n",
    "    u_M = random() # probabilidad de que tenga que ir a buscar datos a memoria\n",
    "    if u_M < PM: # busca datos en memoria\n",
    "        if alternativa == 1:\n",
    "            Talt1 = Talt1 + exp_func(lamT1) # tiempo de buscar en memoria con la alternativa 1\n",
    "        else: # alternativa 2\n",
    "            u_PC = random()\n",
    "            if u_PC < PC: # el dato se encuentra en cache\n",
    "                Talt1 = Talt1 + exp_func(lamC)\n",
    "            else:\n",
    "                Talt1 = Talt1 + exp_func(lamNC)\n",
    "                \n",
    "    return Talt1\n",
    "        \n",
    "lam = 250 # tasa de arribo de insutrucciones a un micro\n",
    "\n",
    "PS = 0.6 # probabilidad que la instruccione sea simple\n",
    "\n",
    "lam1 = PS * lam  # tasa de arribo de una instruccion simple a un micro\n",
    "lam2 = (1-PS) * lam # tasa de arribo de una instruccion compuesta a un micro\n",
    "\n",
    "lamP1 = 60 # tasa que demora una instruccion simple en ser ejecutada\n",
    "lamP2 = 10 # tasa que demora una instruccion compuesta en ser ejecutada\n",
    "\n",
    "lamT1 = 2000 # tasa de buscar datos en memoria con la alternativa 1\n",
    "\n",
    "PM = 0.65 # probabilidad de tener que buscar un dato en memoria\n",
    "\n",
    "PC = 0.6\n",
    "lamC = 500\n",
    "lamNC = 1500\n",
    "\n",
    "\n",
    "n = 100\n",
    "for j in range(4):\n",
    "    t1 = 0\n",
    "    t2 = 0\n",
    "    for datos in range(n):\n",
    "        # alternativa 1\n",
    "        t1 = t1 + tiempo_de_procesamiento(PS, PM, lam1, lam2, lamP1, lamP2, lamT1, PC, lamC, lamNC, 1, inversa_exponencial)\n",
    "\n",
    "        # alternativa 2\n",
    "        t2 = t2 + tiempo_de_procesamiento(PS, PM, lam1, lam2, lamP1, lamP2, lamT1, PC, lamC, lamNC, 2, inversa_exponencial)\n",
    "    \n",
    "    print(\"Para \",n,\" datos | \",\"ALTERNATIVA 1 = \",t1,\" microseg\",\", ALTERNATIVA 2 = \",t2,\" microseg\")\n",
    "    n = n * 10"
   ]
  },
  {
   "cell_type": "markdown",
   "metadata": {},
   "source": [
    "En la ejecución, observamos que la alternativa 1 parece ser levemente mejor que la 2. Sin embargo, no hay tanto diferencia, por lo que podemos repetir estas experiencias (por ej. para n = 1000) varias veces y contar en cuantas oportunidades t2 > t1"
   ]
  },
  {
   "cell_type": "code",
   "execution_count": 69,
   "metadata": {},
   "outputs": [
    {
     "name": "stdout",
     "output_type": "stream",
     "text": [
      "La alternativa 1 demoró menos tiempo una mayor cantidad de veces que la alternativa 2\n"
     ]
    }
   ],
   "source": [
    "n = 1000\n",
    "count1 = count2 = 0\n",
    "for count in range(10000):\n",
    "    t1 = 0\n",
    "    t2 = 0\n",
    "    \n",
    "    for datos in range(n):\n",
    "        # alternativa 1\n",
    "        t1 = t1 + tiempo_de_procesamiento(PS, PM, lam1, lam2, lamP1, lamP2, lamT1, PC, lamC, lamNC, 1, inversa_exponencial)\n",
    "\n",
    "        # alternativa 2\n",
    "        t2 = t2 + tiempo_de_procesamiento(PS, PM, lam1, lam2, lamP1, lamP2, lamT1, PC, lamC, lamNC, 2, inversa_exponencial)\n",
    "    \n",
    "    if t1 < t2:\n",
    "        count1 = count1 + 1\n",
    "    else:\n",
    "        count2 = count2 + 1\n",
    "        \n",
    "if count2 > count1:\n",
    "    print(\"La alternativa 2 demoró menos tiempo una mayor cantidad de veces que la alternativa 1\")\n",
    "else:\n",
    "    print(\"La alternativa 1 demoró menos tiempo una mayor cantidad de veces que la alternativa 2\")"
   ]
  },
  {
   "cell_type": "markdown",
   "metadata": {},
   "source": [
    "Entonces efectivamente, cuando realizamos las las experncias y las contamos, en general la alternativa 1 demora menos"
   ]
  },
  {
   "attachments": {
    "fomrula_ej2.png": {
     "image/png": "[encoded data removed]"
    }
   },
   "cell_type": "markdown",
   "metadata": {},
   "source": [
    "# Cadenas de Markov\n",
    "\n",
    "## Ejercicio 2 \n",
    "\n",
    "Una entidad bancaria se encuentra analizando cuantos clientes en simultáneo están conectados a su home banking.\n",
    "Para ello comenzó a monitorear cada minuto la cantidad de clientes activos, y analizó como se modifica esta cantidad de una observación a la siguiente.\n",
    "Se determinó que la probabilidad que la cantidad de clientes conectados aumentara, o se mantenga igual, podía modelarse utilizando una distribución de probabilidad Binomial, mientras que la probabilidad de tener menos clientes conectados respondía a una distribución uniforme.\n",
    "Siendo i y j dos cantidades de usuarios conectados al sistema. \n",
    "\n",
    "![fomrula_ej2.png](attachment:fomrula_ej2.png)\n",
    "\n",
    "Se sabe además que la probabilidad que un cliente se conecte al sitio es p=0,7 (Por simplicidad supondremos que el servidor de este home banking permite cómo máximo 50 clientes en simultáneo) \n",
    "\n",
    "a) Determinar la matriz de transición de estados explicando cómo se obtiene la misma.\n",
    "\n",
    "b) Utilizando Matlab, Octave o Python simular una posible evolución del sistema a lo largo de 100 observaciones graficando cómo se modifica la cantidad de clientes conectados en cada momento.\n",
    "\n",
    "c) Simulando 100.000 observaciones realizar un histograma mostrando cuantas veces el sistema estuvo en cada estado. (Recomendación: utilizar tantas categorías en el histograma como estados tiene el sistema).\n",
    "\n",
    "d) Determinar el % de tiempo que en el home banking no tuvo clientes conectados.\n",
    "\n",
    "e) Se está evaluando migrar el home banking a un servidor que permitiría cómo máximo 40 clientes conectados en simultáneo. La migración sólo se realizaría si la probabilidad de tener más de 40 clientes es menor a 10%. Indique si se puede recomendar realizar la migración. "
   ]
  },
  {
   "cell_type": "markdown",
   "metadata": {},
   "source": [
    "### a)\n",
    "Sabiendo que n = 50 es la cantidad máxima de clientes y p = 0.7 la probabilidad de conectarse al sistema, podemos calcular la matriz de transición de la siguiente manera:\n",
    "* Primero calculamos las transiciones donde j >= i, es decir, 0 -> 1, 0 -> 2, ..., 0 -> 50, 1 -> 2, 1 -> 3, ..., 1 -> 50, ..., 49 -> 50, 50 -> 50\n",
    "* Luego calculamos las transiciones donde j < i, es decir, 1 -> 0, 2 -> 0, 2 -> 1, ..., 50 -> 0, 50 -> 1, ..., 50 -> 49\n",
    "* Con estos dos vectores, podemos armar la matriz de transición colocando los resultados en la posición (i,j)"
   ]
  },
  {
   "cell_type": "code",
   "execution_count": 70,
   "metadata": {},
   "outputs": [],
   "source": [
    "def combinatoria(m, n):\n",
    "    return math.factorial(m) // (math.factorial(n) * math.factorial(m - n))\n",
    "\n",
    "def sumatoria(matrix, begin, n):\n",
    "    suma = 0\n",
    "    for j in range(begin,n):\n",
    "        suma = suma + matrix[begin][j]\n",
    "    return suma\n",
    "    \n",
    "n = 50\n",
    "p = 0.7\n",
    "P = [[0 for i in range(n)] for j in range(n)]\n",
    "for i in range(n):\n",
    "    for j in range(n):\n",
    "        if(j >= i): # binomial\n",
    "            P[i][j] = combinatoria(n,j-i) * (p ** (j-i)) * ((1 - p) ** (n-j-i))\n",
    "        else: # uniforme\n",
    "            P[i][j] = (1 - sumatoria(P,i,n)) / (i) # (i - 1) TODO: PREGUNTAR!!!!"
   ]
  },
  {
   "cell_type": "markdown",
   "metadata": {},
   "source": [
    "### b)\n",
    "\n",
    "Podemos suponer que inicialmente no habia ningún cliente conectado, por lo que, P0 = [1 0 ... 0]. Si multiplicamos P0 por P, obtenemos la probabilidad del estado siguiente. Si lo repetimos 100 veces, retroalimentando nuestro sistema, podemos simular como evoluciona la cadena"
   ]
  },
  {
   "cell_type": "code",
   "execution_count": 71,
   "metadata": {},
   "outputs": [
    {
     "data": {
      "image/png": "[encoded data removed]",
      "text/plain": [
       "<Figure size 1152x720 with 1 Axes>"
      ]
     },
     "metadata": {},
     "output_type": "display_data"
    }
   ],
   "source": [
    "import matplotlib.pyplot as plt\n",
    "\n",
    "width = 16\n",
    "plt.figure(figsize=(width, height))\n",
    "\n",
    "P0 = [ 0 for i in range(n)]\n",
    "P0[0] = 1 # no hay ningun cliente al comienzo\n",
    "\n",
    "result = []\n",
    "for iexp in range(100):\n",
    "    u = random()\n",
    "    i = 1\n",
    "    while i < len(P0):\n",
    "        if u > P0[i] and u < P0[i-1]:\n",
    "            break;\n",
    "        else:\n",
    "            i = i + 1\n",
    "        \n",
    "    result.append(i-1) # guardo\n",
    "    np.linalg.matrix_power(P, iexp)\n",
    "    P0 = np.dot(P0, P)\n",
    "\n",
    "plt.plot(result)\n",
    "plt.ylabel('Cantidad de trabajadores')\n",
    "plt.xlabel('Instante')\n",
    "plt.show()"
   ]
  },
  {
   "cell_type": "markdown",
   "metadata": {},
   "source": [
    "# Simpy\n",
    "\n",
    "## Ejercicio 4 \n",
    "\n",
    "Resolver el Ejercicio 1 utilizando Simpy y comparar los resultados obtenidos con los obtenidos en el Ejercicio1. "
   ]
  },
  {
   "cell_type": "markdown",
   "metadata": {},
   "source": [
    "Al igual que en el ejercicio 2, miramos los tiempos de ejecucion de cada alternativa pero pasandole al calulador de tiempo alguna función que genere exponenciales de Simpy"
   ]
  },
  {
   "cell_type": "code",
   "execution_count": 72,
   "metadata": {},
   "outputs": [
    {
     "name": "stdout",
     "output_type": "stream",
     "text": [
      "Para  100  datos |  ALTERNATIVA 1 =  6.041399335505444  microseg , ALTERNATIVA 2 =  4.997993896894752  microseg\n",
      "Para  1000  datos |  ALTERNATIVA 1 =  58.657895114564354  microseg , ALTERNATIVA 2 =  59.30566431697604  microseg\n",
      "Para  10000  datos |  ALTERNATIVA 1 =  596.9758953207842  microseg , ALTERNATIVA 2 =  588.8808926053032  microseg\n",
      "Para  100000  datos |  ALTERNATIVA 1 =  5878.303905156101  microseg , ALTERNATIVA 2 =  5873.232953170992  microseg\n"
     ]
    }
   ],
   "source": [
    "# TODO: corregir con lo que se va a ver en clase\n",
    "n = 100\n",
    "for j in range(4):\n",
    "    t1 = 0\n",
    "    t2 = 0\n",
    "    for datos in range(n):\n",
    "        # alternativa 1\n",
    "        t1 = t1 + tiempo_de_procesamiento(PS, PM, lam1, lam2, lamP1, lamP2, lamT1, PC, lamC, lamNC, 1, inversa_exponencial)\n",
    "\n",
    "        # alternativa 2\n",
    "        t2 = t2 + tiempo_de_procesamiento(PS, PM, lam1, lam2, lamP1, lamP2, lamT1, PC, lamC, lamNC, 2, inversa_exponencial)\n",
    "    \n",
    "    print(\"Para \",n,\" datos | \",\"ALTERNATIVA 1 = \",t1,\" microseg\",\", ALTERNATIVA 2 = \",t2,\" microseg\")\n",
    "    n = n * 10"
   ]
  },
  {
   "cell_type": "code",
   "execution_count": null,
   "metadata": {
    "collapsed": true
   },
   "outputs": [],
   "source": []
  }
 ],
 "metadata": {
  "kernelspec": {
   "display_name": "Python 3",
   "language": "python",
   "name": "python3"
  },
  "language_info": {
   "codemirror_mode": {
    "name": "ipython",
    "version": 3
   },
   "file_extension": ".py",
   "mimetype": "text/x-python",
   "name": "python",
   "nbconvert_exporter": "python",
   "pygments_lexer": "ipython3",
   "version": "3.5.2"
  }
 },
 "nbformat": 4,
 "nbformat_minor": 2
}
